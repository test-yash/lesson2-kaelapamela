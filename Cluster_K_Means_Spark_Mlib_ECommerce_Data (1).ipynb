{
 "cells": [
  {
   "cell_type": "markdown",
   "metadata": {
    "id": "1ScyRxuj6zq7"
   },
   "source": [
    "# **START SESSION**"
   ]
  },
  {
   "cell_type": "code",
   "execution_count": null,
   "metadata": {
    "id": "fOC3ikjUDI-3"
   },
   "outputs": [],
   "source": [
    "!pip install pyspark"
   ]
  },
  {
   "cell_type": "code",
   "execution_count": 1,
   "metadata": {
    "id": "xLwWO6KP7omy"
   },
   "outputs": [],
   "source": [
    "import pyspark\n",
    "from pyspark.ml.clustering import KMeans\n",
    "from pyspark.ml.clustering import KMeansModel\n",
    "from pyspark.ml.evaluation import ClusteringEvaluator\n",
    "from pyspark.ml.linalg import Vectors\n",
    "from pyspark.ml import Pipeline\n",
    "from pyspark.ml.feature import VectorIndexer\n",
    "\n",
    "import matplotlib.pyplot as plt\n",
    "import pandas as pd\n",
    "import tempfile\n",
    "import numpy as np\n",
    "import seaborn as sns \n",
    "%matplotlib inline"
   ]
  },
  {
   "cell_type": "code",
   "execution_count": 2,
   "metadata": {
    "id": "8USDHAMBDfMx"
   },
   "outputs": [],
   "source": [
    "import pyspark\n",
    "from pyspark.sql import SparkSession\n",
    "\n",
    "spark = SparkSession.builder \\\n",
    "    .master(\"local[2]\") \\\n",
    "    .appName(\"Proyek PBD Cluster E-Commerce\") \\\n",
    "    .config(\"spark.some.config.option\", \"some-value\") \\\n",
    "    .getOrCreate()"
   ]
  },
  {
   "cell_type": "code",
   "execution_count": 3,
   "metadata": {
    "colab": {
     "base_uri": "https://localhost:8080/",
     "height": 218
    },
    "id": "WRWWTu7-DyKN",
    "outputId": "9e233aa4-2389-4e27-c179-b506f19b7515"
   },
   "outputs": [
    {
     "data": {
      "text/html": [
       "\n",
       "            <div>\n",
       "                <p><b>SparkSession - in-memory</b></p>\n",
       "                \n",
       "        <div>\n",
       "            <p><b>SparkContext</b></p>\n",
       "\n",
       "            <p><a href=\"http://4729fad7e679:4040\">Spark UI</a></p>\n",
       "\n",
       "            <dl>\n",
       "              <dt>Version</dt>\n",
       "                <dd><code>v3.1.1</code></dd>\n",
       "              <dt>Master</dt>\n",
       "                <dd><code>local[2]</code></dd>\n",
       "              <dt>AppName</dt>\n",
       "                <dd><code>Proyek PBD Cluster E-Commerce</code></dd>\n",
       "            </dl>\n",
       "        </div>\n",
       "        \n",
       "            </div>\n",
       "        "
      ],
      "text/plain": [
       "<pyspark.sql.session.SparkSession at 0x7f993bf7b110>"
      ]
     },
     "execution_count": 3,
     "metadata": {
      "tags": []
     },
     "output_type": "execute_result"
    }
   ],
   "source": [
    "spark"
   ]
  },
  {
   "cell_type": "markdown",
   "metadata": {
    "id": "b1pRP-T0EDww"
   },
   "source": [
    "# **CONVERT AND LOAD DATA**"
   ]
  },
  {
   "cell_type": "code",
   "execution_count": null,
   "metadata": {
    "id": "7unq9C9t63cX"
   },
   "outputs": [],
   "source": [
    "from google.colab import drive\n",
    "drive.mount('/content/drive/')"
   ]
  },
  {
   "cell_type": "code",
   "execution_count": null,
   "metadata": {
    "id": "4nt87tIV68yW"
   },
   "outputs": [],
   "source": [
    "data = spark.read.load(\"/content/drive/MyDrive/PROYEK PBD/dataset/data.csv\",\n",
    "                     format=\"csv\", inferSchema=\"true\", header=\"true\")"
   ]
  },
  {
   "cell_type": "markdown",
   "metadata": {
    "id": "buBCfOUfecet"
   },
   "source": [
    "Konversi format data yang sebelumnya berupa format CSV, menjadi Hadoop Format file dalam format **Parquet**."
   ]
  },
  {
   "cell_type": "code",
   "execution_count": null,
   "metadata": {
    "id": "qRUNBMzVtRJs"
   },
   "outputs": [],
   "source": [
    "data.write.format(\"parquet\").mode(\"overwrite\").save(\"/content/drive/MyDrive/PROYEK PBD/dataset/data_parq\")"
   ]
  },
  {
   "cell_type": "code",
   "execution_count": 5,
   "metadata": {
    "id": "ImG_n0xAuAxA"
   },
   "outputs": [],
   "source": [
    "data_parq = spark.read.load(\"/content/drive/MyDrive/PROYEK PBD/dataset/data_parq\",\n",
    "                     format=\"parquet\", inferSchema=\"true\", header=\"true\")"
   ]
  },
  {
   "cell_type": "markdown",
   "metadata": {
    "id": "6ib98SKiFbvX"
   },
   "source": [
    "# **EXPLORATORY DATA**"
   ]
  },
  {
   "cell_type": "code",
   "execution_count": 6,
   "metadata": {
    "colab": {
     "base_uri": "https://localhost:8080/"
    },
    "id": "o8JQmHV1E7jC",
    "outputId": "c69c9aa2-e228-415f-c55e-6d69a439f0bd"
   },
   "outputs": [
    {
     "name": "stdout",
     "output_type": "stream",
     "text": [
      "+---------+---------+--------------------+--------+--------------+---------+----------+--------------+\n",
      "|InvoiceNo|StockCode|         Description|Quantity|   InvoiceDate|UnitPrice|CustomerID|       Country|\n",
      "+---------+---------+--------------------+--------+--------------+---------+----------+--------------+\n",
      "|   536365|   85123A|WHITE HANGING HEA...|       6|12/1/2010 8:26|     2.55|     17850|United Kingdom|\n",
      "|   536365|    71053| WHITE METAL LANTERN|       6|12/1/2010 8:26|     3.39|     17850|United Kingdom|\n",
      "|   536365|   84406B|CREAM CUPID HEART...|       8|12/1/2010 8:26|     2.75|     17850|United Kingdom|\n",
      "|   536365|   84029G|KNITTED UNION FLA...|       6|12/1/2010 8:26|     3.39|     17850|United Kingdom|\n",
      "|   536365|   84029E|RED WOOLLY HOTTIE...|       6|12/1/2010 8:26|     3.39|     17850|United Kingdom|\n",
      "|   536365|    22752|SET 7 BABUSHKA NE...|       2|12/1/2010 8:26|     7.65|     17850|United Kingdom|\n",
      "|   536365|    21730|GLASS STAR FROSTE...|       6|12/1/2010 8:26|     4.25|     17850|United Kingdom|\n",
      "|   536366|    22633|HAND WARMER UNION...|       6|12/1/2010 8:28|     1.85|     17850|United Kingdom|\n",
      "|   536366|    22632|HAND WARMER RED P...|       6|12/1/2010 8:28|     1.85|     17850|United Kingdom|\n",
      "|   536367|    84879|ASSORTED COLOUR B...|      32|12/1/2010 8:34|     1.69|     13047|United Kingdom|\n",
      "+---------+---------+--------------------+--------+--------------+---------+----------+--------------+\n",
      "only showing top 10 rows\n",
      "\n",
      "root\n",
      " |-- InvoiceNo: string (nullable = true)\n",
      " |-- StockCode: string (nullable = true)\n",
      " |-- Description: string (nullable = true)\n",
      " |-- Quantity: integer (nullable = true)\n",
      " |-- InvoiceDate: string (nullable = true)\n",
      " |-- UnitPrice: double (nullable = true)\n",
      " |-- CustomerID: integer (nullable = true)\n",
      " |-- Country: string (nullable = true)\n",
      "\n"
     ]
    }
   ],
   "source": [
    "data_parq.show(10)\n",
    "data_parq.printSchema()"
   ]
  },
  {
   "cell_type": "code",
   "execution_count": 7,
   "metadata": {
    "colab": {
     "base_uri": "https://localhost:8080/"
    },
    "id": "ouuJ67R6Fmly",
    "outputId": "1318422c-7697-497b-fc04-0be57e41be1a"
   },
   "outputs": [
    {
     "name": "stdout",
     "output_type": "stream",
     "text": [
      "+-------+------------------+------------------+--------------------+------------------+---------------+-----------------+------------------+-----------+\n",
      "|summary|         InvoiceNo|         StockCode|         Description|          Quantity|    InvoiceDate|        UnitPrice|        CustomerID|    Country|\n",
      "+-------+------------------+------------------+--------------------+------------------+---------------+-----------------+------------------+-----------+\n",
      "|  count|            541909|            541909|              540455|            541909|         541909|           541909|            406829|     541909|\n",
      "|   mean|  559965.752026781|27623.240210938104|             20713.0|  9.55224954743324|           null|4.611113626082972|15287.690570239585|       null|\n",
      "| stddev|13428.417280800133| 16799.73762842775|                null|218.08115785023486|           null| 96.7598530611797| 1713.600303321594|       null|\n",
      "|    min|            536365|             10002| 4 PURPLE FLOCK D...|            -80995|1/10/2011 10:04|        -11062.06|             12346|  Australia|\n",
      "|    max|           C581569|                 m|   wrongly sold sets|             80995|  9/9/2011 9:52|          38970.0|             18287|Unspecified|\n",
      "+-------+------------------+------------------+--------------------+------------------+---------------+-----------------+------------------+-----------+\n",
      "\n"
     ]
    }
   ],
   "source": [
    "#check deskripsi dataset\n",
    "data_parq.describe().show()"
   ]
  },
  {
   "cell_type": "markdown",
   "metadata": {
    "id": "CePu_xg3vz3J"
   },
   "source": [
    "# **DATA CLEANING AND DATA MANIPULATION**"
   ]
  },
  {
   "cell_type": "markdown",
   "metadata": {
    "id": "--ordXZDwD_t"
   },
   "source": [
    "**CLEANING DATA FROM NULL VALUES**"
   ]
  },
  {
   "cell_type": "code",
   "execution_count": 8,
   "metadata": {
    "id": "eqRVBEWOvzVO"
   },
   "outputs": [],
   "source": [
    "from pyspark.sql.functions import count\n",
    "#check and remove the null values\n",
    "def my_count(df_in):\n",
    "    df_in.agg( *[ count(c).alias(c) for c in df_in.columns ] ).show()"
   ]
  },
  {
   "cell_type": "code",
   "execution_count": 9,
   "metadata": {
    "colab": {
     "base_uri": "https://localhost:8080/"
    },
    "id": "YeD88e9VIBgn",
    "outputId": "5eeb6ca7-2b0d-4259-94e8-7dabb50bc834"
   },
   "outputs": [
    {
     "name": "stdout",
     "output_type": "stream",
     "text": [
      "+---------+---------+-----------+--------+-----------+---------+----------+-------+\n",
      "|InvoiceNo|StockCode|Description|Quantity|InvoiceDate|UnitPrice|CustomerID|Country|\n",
      "+---------+---------+-----------+--------+-----------+---------+----------+-------+\n",
      "|   541909|   541909|     540455|  541909|     541909|   541909|    406829| 541909|\n",
      "+---------+---------+-----------+--------+-----------+---------+----------+-------+\n",
      "\n"
     ]
    }
   ],
   "source": [
    "my_count(data_parq)"
   ]
  },
  {
   "cell_type": "markdown",
   "metadata": {
    "id": "5OztJF5_wqid"
   },
   "source": [
    "Melalui proses penghitungan, ditemukan sejumlah baris data pada setiap kolom tidak sama, pada kolom **CustomerID** terdapat nilai null. Maka record data yang memiliki nilai null akan dihapus dari frame data dengan menggunakan fungsi .dropna()"
   ]
  },
  {
   "cell_type": "code",
   "execution_count": 10,
   "metadata": {
    "colab": {
     "base_uri": "https://localhost:8080/"
    },
    "id": "Ze288t1awgT8",
    "outputId": "a850bbec-ece4-4051-d96b-9ca9f6a43604"
   },
   "outputs": [
    {
     "name": "stdout",
     "output_type": "stream",
     "text": [
      "+---------+---------+-----------+--------+-----------+---------+----------+-------+\n",
      "|InvoiceNo|StockCode|Description|Quantity|InvoiceDate|UnitPrice|CustomerID|Country|\n",
      "+---------+---------+-----------+--------+-----------+---------+----------+-------+\n",
      "|   406829|   406829|     406829|  406829|     406829|   406829|    406829| 406829|\n",
      "+---------+---------+-----------+--------+-----------+---------+----------+-------+\n",
      "\n"
     ]
    }
   ],
   "source": [
    "ecom_data = data_parq.dropna(how='any')\n",
    "my_count(ecom_data)"
   ]
  },
  {
   "cell_type": "markdown",
   "metadata": {
    "id": "seIkNp2sx4oZ"
   },
   "source": [
    "**DATA MANIPULATION**"
   ]
  },
  {
   "cell_type": "markdown",
   "metadata": {
    "id": "VU0HbYnWBKXY"
   },
   "source": [
    "**1. Manipulasi Perhitungan Total Price**"
   ]
  },
  {
   "cell_type": "markdown",
   "metadata": {
    "id": "2TPcEBp9Bbtp"
   },
   "source": [
    "Dilakukan perhitungan untuk kolom baru yakni Total Price dangan menggunakan perkalian antara Quantity dengan UnitPrice (Quantity * Unit Price)"
   ]
  },
  {
   "cell_type": "code",
   "execution_count": 11,
   "metadata": {
    "colab": {
     "base_uri": "https://localhost:8080/"
    },
    "id": "ZZCgQO-x9bd_",
    "outputId": "b198950e-f1d3-4998-bb36-685ffd25fb1a"
   },
   "outputs": [
    {
     "name": "stdout",
     "output_type": "stream",
     "text": [
      "+---------+---------+--------------------+--------+--------------+---------+----------+--------------+----------+\n",
      "|InvoiceNo|StockCode|         Description|Quantity|   InvoiceDate|UnitPrice|CustomerID|       Country|TotalPrice|\n",
      "+---------+---------+--------------------+--------+--------------+---------+----------+--------------+----------+\n",
      "|   536365|   85123A|WHITE HANGING HEA...|       6|12/1/2010 8:26|     2.55|     17850|United Kingdom|      15.3|\n",
      "|   536365|    71053| WHITE METAL LANTERN|       6|12/1/2010 8:26|     3.39|     17850|United Kingdom|     20.34|\n",
      "|   536365|   84406B|CREAM CUPID HEART...|       8|12/1/2010 8:26|     2.75|     17850|United Kingdom|      22.0|\n",
      "|   536365|   84029G|KNITTED UNION FLA...|       6|12/1/2010 8:26|     3.39|     17850|United Kingdom|     20.34|\n",
      "|   536365|   84029E|RED WOOLLY HOTTIE...|       6|12/1/2010 8:26|     3.39|     17850|United Kingdom|     20.34|\n",
      "+---------+---------+--------------------+--------+--------------+---------+----------+--------------+----------+\n",
      "only showing top 5 rows\n",
      "\n"
     ]
    }
   ],
   "source": [
    "from pyspark.sql.functions import round\n",
    "\n",
    "ecom_data = ecom_data.withColumn('TotalPrice', round( ecom_data.Quantity * ecom_data.UnitPrice, 2 ) )\n",
    "ecom_data.show(5)"
   ]
  },
  {
   "cell_type": "markdown",
   "metadata": {
    "id": "QKHeOEIS_Uka"
   },
   "source": [
    "**2. Manipulasi Format Tanggal**"
   ]
  },
  {
   "cell_type": "markdown",
   "metadata": {
    "id": "EvbLCyCwx8Z1"
   },
   "source": [
    "Jika dilihat di kolom InvoiceData masih dalam format MM/dd/yy HH:mm. Dikarenakan Spark sangat sensitive terhadap format tanggal, maka diperlukan membuat sebuah kolom baru dengan nama kolom **NewInvoiceDate** dengan menggunakan value yang terdapat pada kolom InvoiceDate"
   ]
  },
  {
   "cell_type": "code",
   "execution_count": 21,
   "metadata": {
    "id": "W2EsSyowxUlW"
   },
   "outputs": [],
   "source": [
    "from pyspark.sql.functions import to_utc_timestamp, unix_timestamp, lit, datediff, col\n",
    "\n",
    "timeFmt = \"MM/dd/yy HH:mm\"\n",
    "\n",
    "ecom_data = ecom_data.withColumn('NewInvoiceDate'\n",
    "                 , to_utc_timestamp(unix_timestamp(col('InvoiceDate'),timeFmt).cast('timestamp')\n",
    "                 , 'UTC'))"
   ]
  },
  {
   "cell_type": "code",
   "execution_count": 22,
   "metadata": {
    "colab": {
     "base_uri": "https://localhost:8080/"
    },
    "id": "X7x_W-F7Swng",
    "outputId": "e0a9a093-999c-4cfe-a04b-d2efb5d69a78"
   },
   "outputs": [
    {
     "name": "stdout",
     "output_type": "stream",
     "text": [
      "+---------+---------+--------------------+--------+--------------+---------+----------+--------------+----------+-------------------+--------+\n",
      "|InvoiceNo|StockCode|         Description|Quantity|   InvoiceDate|UnitPrice|CustomerID|       Country|TotalPrice|     NewInvoiceDate|Duration|\n",
      "+---------+---------+--------------------+--------+--------------+---------+----------+--------------+----------+-------------------+--------+\n",
      "|   536365|   85123A|WHITE HANGING HEA...|       6|12/1/2010 8:26|     2.55|     17850|United Kingdom|      15.3|2010-12-01 08:26:00|    null|\n",
      "|   536365|    71053| WHITE METAL LANTERN|       6|12/1/2010 8:26|     3.39|     17850|United Kingdom|     20.34|2010-12-01 08:26:00|    null|\n",
      "|   536365|   84406B|CREAM CUPID HEART...|       8|12/1/2010 8:26|     2.75|     17850|United Kingdom|      22.0|2010-12-01 08:26:00|    null|\n",
      "|   536365|   84029G|KNITTED UNION FLA...|       6|12/1/2010 8:26|     3.39|     17850|United Kingdom|     20.34|2010-12-01 08:26:00|    null|\n",
      "|   536365|   84029E|RED WOOLLY HOTTIE...|       6|12/1/2010 8:26|     3.39|     17850|United Kingdom|     20.34|2010-12-01 08:26:00|    null|\n",
      "+---------+---------+--------------------+--------+--------------+---------+----------+--------------+----------+-------------------+--------+\n",
      "only showing top 5 rows\n",
      "\n"
     ]
    }
   ],
   "source": [
    "ecom_data.show(5)"
   ]
  },
  {
   "cell_type": "markdown",
   "metadata": {
    "id": "3OuG553WTP4h"
   },
   "source": [
    "**3. Manipulasi Perhitungan Time Difference (Duration)**"
   ]
  },
  {
   "cell_type": "code",
   "execution_count": 24,
   "metadata": {
    "id": "FjWTd22GS2K2"
   },
   "outputs": [],
   "source": [
    "from pyspark.sql.functions import mean, min, max, sum, datediff, to_date\n",
    "\n",
    "date_max = ecom_data.select(max('NewInvoiceDate')).toPandas()\n",
    "current = to_utc_timestamp( unix_timestamp(lit(str(date_max.iloc[0][0])), \\\n",
    "                              'yy-MM-dd HH:mm').cast('timestamp'), 'UTC' )\n",
    "\n",
    "#Calculatre Duration\n",
    "ecom_data = ecom_data.withColumn('Duration', datediff(lit(current), 'NewInvoiceDate'))\n"
   ]
  },
  {
   "cell_type": "code",
   "execution_count": 25,
   "metadata": {
    "colab": {
     "base_uri": "https://localhost:8080/"
    },
    "id": "mBSu9nhZS2bC",
    "outputId": "2bb1423d-ed77-4d4f-d695-1d8d1c311d3b"
   },
   "outputs": [
    {
     "name": "stdout",
     "output_type": "stream",
     "text": [
      "+---------+---------+--------------------+--------+--------------+---------+----------+--------------+----------+-------------------+--------+\n",
      "|InvoiceNo|StockCode|         Description|Quantity|   InvoiceDate|UnitPrice|CustomerID|       Country|TotalPrice|     NewInvoiceDate|Duration|\n",
      "+---------+---------+--------------------+--------+--------------+---------+----------+--------------+----------+-------------------+--------+\n",
      "|   536365|   85123A|WHITE HANGING HEA...|       6|12/1/2010 8:26|     2.55|     17850|United Kingdom|      15.3|2010-12-01 08:26:00|     373|\n",
      "|   536365|    71053| WHITE METAL LANTERN|       6|12/1/2010 8:26|     3.39|     17850|United Kingdom|     20.34|2010-12-01 08:26:00|     373|\n",
      "|   536365|   84406B|CREAM CUPID HEART...|       8|12/1/2010 8:26|     2.75|     17850|United Kingdom|      22.0|2010-12-01 08:26:00|     373|\n",
      "|   536365|   84029G|KNITTED UNION FLA...|       6|12/1/2010 8:26|     3.39|     17850|United Kingdom|     20.34|2010-12-01 08:26:00|     373|\n",
      "|   536365|   84029E|RED WOOLLY HOTTIE...|       6|12/1/2010 8:26|     3.39|     17850|United Kingdom|     20.34|2010-12-01 08:26:00|     373|\n",
      "+---------+---------+--------------------+--------+--------------+---------+----------+--------------+----------+-------------------+--------+\n",
      "only showing top 5 rows\n",
      "\n"
     ]
    }
   ],
   "source": [
    "ecom_data.show(5)"
   ]
  },
  {
   "cell_type": "markdown",
   "metadata": {
    "id": "ml1RGi2Pd4Sn"
   },
   "source": [
    "# **RFM ANALYSIS METHODOLOGY**"
   ]
  },
  {
   "cell_type": "markdown",
   "metadata": {
    "id": "nMIAX5v7bfNm"
   },
   "source": [
    "RFM (Recency, Frequency, and Monetary) merupakan sebuah metode yang digunakan untuk menganalisis value dari customer. RFM biasanya digunakan pada basisdata marketing dan direct marketing dan telah mendapatkan perhatian khusus dalam industri jasa retail dan profesional. Berikut merupakan rincian lebih lanjut mengenai RFM:\n",
    "\n",
    "*   Recency Value, merepresentasikan seberapa baru pelanggan membeli sesuatu? misalnya: durasi sejak pembelian terakhir\n",
    "*   Frequency Value, merepresentasikan seberapa sering pelanggan membeli? misalnya: Jumlah total pembelian\n",
    "*   Monetary Value, merepresentasikan seberapa banyak yang dibelanjakan pelanggan? misalnya: Total uang yang dihabiskan pelanggan\n",
    "\n",
    "\n",
    "![RFM.PNG](data:image/png;base64,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)"
   ]
  },
  {
   "cell_type": "markdown",
   "metadata": {
    "id": "uqL0OrHmHNGQ"
   },
   "source": [
    "# **RFM SEGMENTATION**"
   ]
  },
  {
   "cell_type": "markdown",
   "metadata": {
    "id": "tbvru-H3bSpR"
   },
   "source": [
    "**BUILD THE REGENCY, FREQUENCY AND MONETARY**"
   ]
  },
  {
   "cell_type": "code",
   "execution_count": 27,
   "metadata": {
    "id": "B0a-jcwHP-3r"
   },
   "outputs": [],
   "source": [
    "recency = ecom_data.groupBy('CustomerID').agg(min('Duration').alias('Recency'))\n",
    "\n",
    "frequency = ecom_data.groupBy('CustomerID', 'InvoiceNo').count()\\\n",
    "                        .groupBy('CustomerID')\\\n",
    "                        .agg(count(\"*\").alias(\"Frequency\"))\n",
    "\n",
    "monetary = ecom_data.groupBy('CustomerID').agg(round(sum('TotalPrice'), 2).alias('Monetary'))\n",
    "\n",
    "rfm = recency.join(frequency,'CustomerID', how = 'inner')\\\n",
    "             .join(monetary,'CustomerID', how = 'inner')"
   ]
  },
  {
   "cell_type": "code",
   "execution_count": 29,
   "metadata": {
    "colab": {
     "base_uri": "https://localhost:8080/"
    },
    "id": "kkQ-fANyorZ-",
    "outputId": "d45214de-7d93-4f88-acea-d4ba5d70e63c"
   },
   "outputs": [
    {
     "name": "stdout",
     "output_type": "stream",
     "text": [
      "+----------+-------+---------+--------+\n",
      "|CustomerID|Recency|Frequency|Monetary|\n",
      "+----------+-------+---------+--------+\n",
      "|     15619|     10|        1|   336.4|\n",
      "|     17389|      0|       43|31300.08|\n",
      "|     12940|     46|        4|  876.29|\n",
      "|     13623|     30|        7|  672.44|\n",
      "|     14450|    180|        3|  483.25|\n",
      "|     15727|     16|        7| 5178.96|\n",
      "|     15790|     10|        1|  220.85|\n",
      "|     13285|     23|        4| 2709.12|\n",
      "|     14570|    280|        2|  218.06|\n",
      "|     16574|     71|        1|  451.44|\n",
      "+----------+-------+---------+--------+\n",
      "only showing top 10 rows\n",
      "\n"
     ]
    }
   ],
   "source": [
    "rfm.show(10)"
   ]
  },
  {
   "cell_type": "markdown",
   "metadata": {
    "id": "hm3ML6Vz2_36"
   },
   "source": [
    "**SEGMENTASI RFM**"
   ]
  },
  {
   "cell_type": "markdown",
   "metadata": {
    "id": "4x2mp-ji3dAw"
   },
   "source": [
    "**A. Menentukan Cutting Point**\n",
    "\n",
    "*Cutting Point* merupakan sebuah metode yang digunakan untuk memilah penggunaan suatu kriteria untuk dijadikan sebagai pertimbangan dalam pengambilan sebuah keputusan terhadap suatu masalah. Metode *Cutting Point* juga digunakan untuk memastikan seberapa penting derajat sebuah kriteria."
   ]
  },
  {
   "cell_type": "markdown",
   "metadata": {
    "id": "2Y0J5q1fBqz0"
   },
   "source": [
    "**B. Fungsi Mendefenisikan User dengan menggunakan persen Kuartil sebagai Cutting Points**\n",
    "\n",
    "Kuartil digunakan untuk membagi populasi kedalam berbagai kelompok. Misalnya untuk menemukan 25% total pengeluaran uang teratas (Monetary) pada populasi data online retail yang digunakan pada proyek adalah sebesar 293.362 "
   ]
  },
  {
   "cell_type": "code",
   "execution_count": 34,
   "metadata": {
    "id": "JldCnLSZAPjl"
   },
   "outputs": [],
   "source": [
    "def describe_pd(df_in, columns, style):\n",
    "    '''\n",
    "    Function to union the basic stats results and deciles\n",
    "    :param df_in: the input dataframe\n",
    "    :param columns: the cloumn name list of the numerical variable\n",
    "    :param style: the display style\n",
    "    :return : the numerical describe info. of the input dataframe\n",
    "    :author: MIng Chen and Wenqiang Feng\n",
    "    :email: von198@gmail.com\n",
    "    '''\n",
    "    if style == 1:\n",
    "        percentiles = [25, 50, 75]\n",
    "    else:\n",
    "        percentiles = np.array(range(0, 110, 10))\n",
    "    \n",
    "    percs = np.transpose([np.percentile(df_in.select(x).collect(), percentiles) for x in columns])\n",
    "    percs = pd.DataFrame(percs, columns=columns)\n",
    "    percs['summary'] = [str(p) + '%' for p in percentiles]\n",
    "    \n",
    "    spark_describe = df_in.describe().toPandas()\n",
    "    new_df = pd.concat([spark_describe, percs],ignore_index=True)\n",
    "    new_df = new_df.round(2)\n",
    "    return new_df[['summary'] + columns]"
   ]
  },
  {
   "cell_type": "code",
   "execution_count": 36,
   "metadata": {
    "colab": {
     "base_uri": "https://localhost:8080/",
     "height": 294
    },
    "id": "BmycVBCQo46I",
    "outputId": "0eeba0b0-169b-4b2a-f052-7ef9089ad678"
   },
   "outputs": [
    {
     "data": {
      "text/html": [
       "<div>\n",
       "<style scoped>\n",
       "    .dataframe tbody tr th:only-of-type {\n",
       "        vertical-align: middle;\n",
       "    }\n",
       "\n",
       "    .dataframe tbody tr th {\n",
       "        vertical-align: top;\n",
       "    }\n",
       "\n",
       "    .dataframe thead th {\n",
       "        text-align: right;\n",
       "    }\n",
       "</style>\n",
       "<table border=\"1\" class=\"dataframe\">\n",
       "  <thead>\n",
       "    <tr style=\"text-align: right;\">\n",
       "      <th></th>\n",
       "      <th>summary</th>\n",
       "      <th>Recency</th>\n",
       "      <th>Frequency</th>\n",
       "      <th>Monetary</th>\n",
       "    </tr>\n",
       "  </thead>\n",
       "  <tbody>\n",
       "    <tr>\n",
       "      <th>0</th>\n",
       "      <td>count</td>\n",
       "      <td>4372</td>\n",
       "      <td>4372</td>\n",
       "      <td>4372</td>\n",
       "    </tr>\n",
       "    <tr>\n",
       "      <th>1</th>\n",
       "      <td>mean</td>\n",
       "      <td>91.58119853613907</td>\n",
       "      <td>5.07548032936871</td>\n",
       "      <td>1898.4597003659658</td>\n",
       "    </tr>\n",
       "    <tr>\n",
       "      <th>2</th>\n",
       "      <td>stddev</td>\n",
       "      <td>100.77213931384833</td>\n",
       "      <td>9.338754163574729</td>\n",
       "      <td>8219.345141139722</td>\n",
       "    </tr>\n",
       "    <tr>\n",
       "      <th>3</th>\n",
       "      <td>min</td>\n",
       "      <td>0</td>\n",
       "      <td>1</td>\n",
       "      <td>-4287.63</td>\n",
       "    </tr>\n",
       "    <tr>\n",
       "      <th>4</th>\n",
       "      <td>max</td>\n",
       "      <td>373</td>\n",
       "      <td>248</td>\n",
       "      <td>279489.02</td>\n",
       "    </tr>\n",
       "    <tr>\n",
       "      <th>5</th>\n",
       "      <td>25%</td>\n",
       "      <td>16</td>\n",
       "      <td>1</td>\n",
       "      <td>293.362</td>\n",
       "    </tr>\n",
       "    <tr>\n",
       "      <th>6</th>\n",
       "      <td>50%</td>\n",
       "      <td>50</td>\n",
       "      <td>3</td>\n",
       "      <td>648.075</td>\n",
       "    </tr>\n",
       "    <tr>\n",
       "      <th>7</th>\n",
       "      <td>75%</td>\n",
       "      <td>143</td>\n",
       "      <td>5</td>\n",
       "      <td>1611.72</td>\n",
       "    </tr>\n",
       "  </tbody>\n",
       "</table>\n",
       "</div>"
      ],
      "text/plain": [
       "  summary             Recency          Frequency            Monetary\n",
       "0   count                4372               4372                4372\n",
       "1    mean   91.58119853613907   5.07548032936871  1898.4597003659658\n",
       "2  stddev  100.77213931384833  9.338754163574729   8219.345141139722\n",
       "3     min                   0                  1            -4287.63\n",
       "4     max                 373                248           279489.02\n",
       "5     25%                  16                  1             293.362\n",
       "6     50%                  50                  3             648.075\n",
       "7     75%                 143                  5             1611.72"
      ]
     },
     "execution_count": 36,
     "metadata": {
      "tags": []
     },
     "output_type": "execute_result"
    }
   ],
   "source": [
    "cols = ['Recency','Frequency','Monetary']\n",
    "describe_pd(rfm,cols,1)"
   ]
  },
  {
   "cell_type": "markdown",
   "metadata": {
    "id": "sVaJvynOFhwf"
   },
   "source": [
    "**C. Mendefenisikan score segmen RFM berdasarkan quartil**\n",
    "\n",
    "***Kuartil 1 (Q1) = 25%***\n",
    "\n",
    "*   Untuk score R (Recency) <= 16\n",
    "*   Untuk score F (Frequency) <= 1\n",
    "*   Untuk score M (Monetary) <= -4287.63\n",
    "\n",
    "***Kuartil 2 (Q2) = 50%***\n",
    "\n",
    "*   Untuk score R (Recency) <= 50\n",
    "*   Untuk score F (Frequency) <= 3\n",
    "*   Untuk score M (Monetary) <= 648.075\n",
    "\n",
    "***Kuartil 3 (Q3) = 70%***\n",
    "\n",
    "*   Untuk score R (Recency) <= 143\n",
    "*   Untuk score F (Frequency) <= 5\n",
    "*   Untuk score M (Monetary) <= 1611.72\n",
    "\n",
    "***Kuartil 4 (Q4)***\n",
    "\n",
    "Score R, F, M yang tepat berada lebih besar dari score untuk Kuartil 3 (70%)"
   ]
  },
  {
   "cell_type": "code",
   "execution_count": 37,
   "metadata": {
    "id": "6tZBkg7f9LXI"
   },
   "outputs": [],
   "source": [
    "def RScore(x):\n",
    "    if  x <= 16:\n",
    "        return 1\n",
    "    elif x<= 50:\n",
    "        return 2\n",
    "    elif x<= 143:\n",
    "        return 3\n",
    "    else:\n",
    "        return 4\n",
    "\n",
    "def FScore(x):\n",
    "    if  x <= 1:\n",
    "        return 4\n",
    "    elif x <= 3:\n",
    "        return 3\n",
    "    elif x <= 5:\n",
    "        return 2\n",
    "    else:\n",
    "        return 1\n",
    "\n",
    "def MScore(x):\n",
    "    if  x <= 293:\n",
    "        return 4\n",
    "    elif x <= 648:\n",
    "        return 3\n",
    "    elif x <= 1611:\n",
    "        return 2\n",
    "    else:\n",
    "        return 1\n",
    "\n",
    "from pyspark.sql.functions import udf\n",
    "from pyspark.sql.types import StringType, DoubleType\n",
    "\n",
    "R_udf = udf(lambda x: RScore(x), StringType())\n",
    "F_udf = udf(lambda x: FScore(x), StringType())\n",
    "M_udf = udf(lambda x: MScore(x), StringType())"
   ]
  },
  {
   "cell_type": "markdown",
   "metadata": {
    "id": "atkunovuEiZ3"
   },
   "source": [
    "**D. Implementasi Segmentasi RFM**"
   ]
  },
  {
   "cell_type": "code",
   "execution_count": 38,
   "metadata": {
    "colab": {
     "base_uri": "https://localhost:8080/"
    },
    "id": "ireB8NYP-ib4",
    "outputId": "95e9e061-d101-4666-ec2e-50fb513f4240"
   },
   "outputs": [
    {
     "name": "stdout",
     "output_type": "stream",
     "text": [
      "+----------+-------+---------+--------+-----+-----+-----+\n",
      "|CustomerID|Recency|Frequency|Monetary|r_seg|f_seg|m_seg|\n",
      "+----------+-------+---------+--------+-----+-----+-----+\n",
      "|     15619|     10|        1|   336.4|    1|    4|    3|\n",
      "|     17389|      0|       43|31300.08|    1|    1|    1|\n",
      "|     12940|     46|        4|  876.29|    2|    2|    2|\n",
      "|     13623|     30|        7|  672.44|    2|    1|    2|\n",
      "|     14450|    180|        3|  483.25|    4|    3|    3|\n",
      "+----------+-------+---------+--------+-----+-----+-----+\n",
      "only showing top 5 rows\n",
      "\n"
     ]
    }
   ],
   "source": [
    "rfm_seg = rfm.withColumn(\"r_seg\", R_udf(\"Recency\"))\n",
    "rfm_seg = rfm_seg.withColumn(\"f_seg\", F_udf(\"Frequency\"))\n",
    "rfm_seg = rfm_seg.withColumn(\"m_seg\", M_udf(\"Monetary\"))\n",
    "rfm_seg.show(5)"
   ]
  },
  {
   "cell_type": "markdown",
   "metadata": {
    "id": "OR-iBtC3GyHa"
   },
   "source": [
    "**E. Menentukan score RFM**\n",
    "\n",
    "Dengan menggabungkan score dari masing-masing segmen R, F, dan M menggunakan fungsi Concat"
   ]
  },
  {
   "cell_type": "code",
   "execution_count": 39,
   "metadata": {
    "colab": {
     "base_uri": "https://localhost:8080/"
    },
    "id": "hxaRZRMuEr5a",
    "outputId": "96ffb946-0117-48e2-cfc2-a9e3bf58bdfd"
   },
   "outputs": [
    {
     "name": "stdout",
     "output_type": "stream",
     "text": [
      "+----------+-------+---------+--------+-----+-----+-----+--------+\n",
      "|CustomerID|Recency|Frequency|Monetary|r_seg|f_seg|m_seg|RFMScore|\n",
      "+----------+-------+---------+--------+-----+-----+-----+--------+\n",
      "|     16549|     10|       10| 4154.64|    1|    1|    1|     111|\n",
      "|     13225|      3|        8| 6083.04|    1|    1|    1|     111|\n",
      "|     15382|     14|        8| 5927.86|    1|    1|    1|     111|\n",
      "|     17809|     16|       15| 4627.62|    1|    1|    1|     111|\n",
      "|     14713|      9|       12| 2664.26|    1|    1|    1|     111|\n",
      "|     18161|     10|        6| 1612.79|    1|    1|    1|     111|\n",
      "|     17754|      0|        6| 1739.92|    1|    1|    1|     111|\n",
      "|     12471|      2|       49|18740.92|    1|    1|    1|     111|\n",
      "|     15727|     16|        7| 5178.96|    1|    1|    1|     111|\n",
      "|     17389|      0|       43|31300.08|    1|    1|    1|     111|\n",
      "+----------+-------+---------+--------+-----+-----+-----+--------+\n",
      "only showing top 10 rows\n",
      "\n"
     ]
    }
   ],
   "source": [
    "from pyspark.sql import functions as F\n",
    "rfm_seg = rfm_seg.withColumn('RFMScore',\n",
    "                             F.concat(F.col('r_seg'),F.col('f_seg'), F.col('m_seg')))\n",
    "rfm_seg.sort(F.col('RFMScore')).show(10)"
   ]
  },
  {
   "cell_type": "code",
   "execution_count": null,
   "metadata": {
    "id": "FyqHyn0xGrFb"
   },
   "outputs": [],
   "source": []
  }
 ],
 "metadata": {
  "colab": {
   "name": "Cluster K-Means Spark Mlib ECommerce Data",
   "provenance": []
  },
  "kernelspec": {
   "display_name": "Python 3",
   "language": "python",
   "name": "python3"
  },
  "language_info": {
   "codemirror_mode": {
    "name": "ipython",
    "version": 3
   },
   "file_extension": ".py",
   "mimetype": "text/x-python",
   "name": "python",
   "nbconvert_exporter": "python",
   "pygments_lexer": "ipython3",
   "version": "3.8.3"
  }
 },
 "nbformat": 4,
 "nbformat_minor": 1
}
